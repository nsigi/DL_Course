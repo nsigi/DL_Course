{
 "cells": [
  {
   "cell_type": "markdown",
   "metadata": {},
   "source": [
    "# Лабораторная работа 4, Степанов 6408, 1 вариант"
   ]
  },
  {
   "cell_type": "markdown",
   "metadata": {},
   "source": [
    "Tensorflow 2.x\n",
    "\n",
    "1) Подготовка данных\n",
    "\n",
    "2) Использование Keras Model API\n",
    "\n",
    "3) Использование Keras Sequential + Functional API"
   ]
  },
  {
   "cell_type": "markdown",
   "metadata": {},
   "source": [
    "https://www.tensorflow.org/tutorials"
   ]
  },
  {
   "cell_type": "markdown",
   "metadata": {},
   "source": [
    "Для выполнения лабораторной работы необходимо установить tensorflow версии 2.0 или выше .\n",
    "\n",
    "Рекомендуется использовать возможности Colab'а по обучению моделей на GPU.\n",
    "\n"
   ]
  },
  {
   "cell_type": "code",
   "execution_count": 1,
   "metadata": {},
   "outputs": [],
   "source": [
    "import os\n",
    "import tensorflow as tf\n",
    "import numpy as np\n",
    "import math\n",
    "import timeit\n",
    "import matplotlib.pyplot as plt\n",
    "\n",
    "%matplotlib inline"
   ]
  },
  {
   "cell_type": "markdown",
   "metadata": {},
   "source": [
    "# Подготовка данных\n",
    "Загрузите набор данных из предыдущей лабораторной работы. "
   ]
  },
  {
   "cell_type": "code",
   "execution_count": 2,
   "metadata": {},
   "outputs": [
    {
     "name": "stdout",
     "output_type": "stream",
     "text": [
      "Train data shape:  (49000, 32, 32, 3)\n",
      "Train labels shape:  (49000,) int32\n",
      "Validation data shape:  (1000, 32, 32, 3)\n",
      "Validation labels shape:  (1000,)\n",
      "Test data shape:  (10000, 32, 32, 3)\n",
      "Test labels shape:  (10000,)\n"
     ]
    }
   ],
   "source": [
    "def load_cifar10(num_training=49000, num_validation=1000, num_test=10000):\n",
    "    \"\"\"\n",
    "    Fetch the CIFAR-10 dataset from the web and perform preprocessing to prepare\n",
    "    it for the two-layer neural net classifier. These are the same steps as\n",
    "    we used for the SVM, but condensed to a single function.\n",
    "    \"\"\"\n",
    "    # Load the raw CIFAR-10 dataset and use appropriate data types and shapes\n",
    "    cifar10 = tf.keras.datasets.cifar10.load_data()\n",
    "    (X_train, y_train), (X_test, y_test) = cifar10\n",
    "    X_train = np.asarray(X_train, dtype=np.float32)\n",
    "    y_train = np.asarray(y_train, dtype=np.int32).flatten()\n",
    "    X_test = np.asarray(X_test, dtype=np.float32)\n",
    "    y_test = np.asarray(y_test, dtype=np.int32).flatten()\n",
    "\n",
    "    # Subsample the data\n",
    "    mask = range(num_training, num_training + num_validation)\n",
    "    X_val = X_train[mask]\n",
    "    y_val = y_train[mask]\n",
    "    mask = range(num_training)\n",
    "    X_train = X_train[mask]\n",
    "    y_train = y_train[mask]\n",
    "    mask = range(num_test)\n",
    "    X_test = X_test[mask]\n",
    "    y_test = y_test[mask]\n",
    "\n",
    "    # Normalize the data: subtract the mean pixel and divide by std\n",
    "    mean_pixel = X_train.mean(axis=(0, 1, 2), keepdims=True)\n",
    "    std_pixel = X_train.std(axis=(0, 1, 2), keepdims=True)\n",
    "    X_train = (X_train - mean_pixel) / std_pixel\n",
    "    X_val = (X_val - mean_pixel) / std_pixel\n",
    "    X_test = (X_test - mean_pixel) / std_pixel\n",
    "\n",
    "    return X_train, y_train, X_val, y_val, X_test, y_test\n",
    "\n",
    "# If there are errors with SSL downloading involving self-signed certificates,\n",
    "# it may be that your Python version was recently installed on the current machine.\n",
    "# See: https://github.com/tensorflow/tensorflow/issues/10779\n",
    "# To fix, run the command: /Applications/Python\\ 3.7/Install\\ Certificates.command\n",
    "#   ...replacing paths as necessary.\n",
    "\n",
    "# Invoke the above function to get our data.\n",
    "NHW = (0, 1, 2)\n",
    "X_train, y_train, X_val, y_val, X_test, y_test = load_cifar10()\n",
    "print('Train data shape: ', X_train.shape)\n",
    "print('Train labels shape: ', y_train.shape, y_train.dtype)\n",
    "print('Validation data shape: ', X_val.shape)\n",
    "print('Validation labels shape: ', y_val.shape)\n",
    "print('Test data shape: ', X_test.shape)\n",
    "print('Test labels shape: ', y_test.shape)"
   ]
  },
  {
   "cell_type": "code",
   "execution_count": 3,
   "metadata": {},
   "outputs": [],
   "source": [
    "class Dataset(object):\n",
    "    def __init__(self, X, y, batch_size, shuffle=False):\n",
    "        \"\"\"\n",
    "        Construct a Dataset object to iterate over data X and labels y\n",
    "        \n",
    "        Inputs:\n",
    "        - X: Numpy array of data, of any shape\n",
    "        - y: Numpy array of labels, of any shape but with y.shape[0] == X.shape[0]\n",
    "        - batch_size: Integer giving number of elements per minibatch\n",
    "        - shuffle: (optional) Boolean, whether to shuffle the data on each epoch\n",
    "        \"\"\"\n",
    "        assert X.shape[0] == y.shape[0], 'Got different numbers of data and labels'\n",
    "        self.X, self.y = X, y\n",
    "        self.batch_size, self.shuffle = batch_size, shuffle\n",
    "\n",
    "    def __iter__(self):\n",
    "        N, B = self.X.shape[0], self.batch_size\n",
    "        idxs = np.arange(N)\n",
    "        if self.shuffle:\n",
    "            np.random.shuffle(idxs)\n",
    "        return iter((self.X[i:i+B], self.y[i:i+B]) for i in range(0, N, B))\n",
    "\n",
    "\n",
    "train_dset = Dataset(X_train, y_train, batch_size=64, shuffle=True)\n",
    "val_dset = Dataset(X_val, y_val, batch_size=64, shuffle=False)\n",
    "test_dset = Dataset(X_test, y_test, batch_size=64)"
   ]
  },
  {
   "cell_type": "code",
   "execution_count": 4,
   "metadata": {},
   "outputs": [
    {
     "name": "stdout",
     "output_type": "stream",
     "text": [
      "0 (64, 32, 32, 3) (64,)\n",
      "1 (64, 32, 32, 3) (64,)\n",
      "2 (64, 32, 32, 3) (64,)\n",
      "3 (64, 32, 32, 3) (64,)\n",
      "4 (64, 32, 32, 3) (64,)\n",
      "5 (64, 32, 32, 3) (64,)\n",
      "6 (64, 32, 32, 3) (64,)\n"
     ]
    }
   ],
   "source": [
    "# We can iterate through a dataset like this:\n",
    "for t, (x, y) in enumerate(train_dset):\n",
    "    print(t, x.shape, y.shape)\n",
    "    if t > 5: break"
   ]
  },
  {
   "cell_type": "markdown",
   "metadata": {},
   "source": []
  },
  {
   "cell_type": "markdown",
   "metadata": {},
   "source": [
    "\n"
   ]
  },
  {
   "cell_type": "markdown",
   "metadata": {},
   "source": [
    "#  Keras Model Subclassing API"
   ]
  },
  {
   "cell_type": "markdown",
   "metadata": {},
   "source": [
    "\n",
    "Для реализации собственной модели с помощью Keras Model Subclassing API необходимо выполнить следующие шаги:\n",
    "\n",
    "1) Определить новый класс, который является наследником tf.keras.Model.\n",
    "\n",
    "2) В методе __init__() определить все необходимые слои из модуля tf.keras.layer\n",
    "\n",
    "3) Реализовать прямой проход в методе call() на основе слоев, объявленных в __init__()\n",
    "\n",
    "Ниже приведен пример использования keras API для определения двухслойной полносвязной сети. \n",
    "\n",
    "https://www.tensorflow.org/versions/r2.0/api_docs/python/tf/keras"
   ]
  },
  {
   "cell_type": "code",
   "execution_count": 5,
   "metadata": {},
   "outputs": [],
   "source": [
    "device = '/device:GPU:0'"
   ]
  },
  {
   "cell_type": "code",
   "execution_count": 6,
   "metadata": {},
   "outputs": [
    {
     "name": "stdout",
     "output_type": "stream",
     "text": [
      "(64, 10)\n"
     ]
    }
   ],
   "source": [
    "class TwoLayerFC(tf.keras.Model):\n",
    "    def __init__(self, hidden_size, num_classes):\n",
    "        super(TwoLayerFC, self).__init__()        \n",
    "        initializer = tf.initializers.VarianceScaling(scale=2.0)\n",
    "        self.fc1 = tf.keras.layers.Dense(hidden_size, activation='relu',\n",
    "                                   kernel_initializer=initializer)\n",
    "        self.fc2 = tf.keras.layers.Dense(num_classes, activation='softmax',\n",
    "                                   kernel_initializer=initializer)\n",
    "        self.flatten = tf.keras.layers.Flatten()\n",
    "    \n",
    "    def call(self, x, training=False):\n",
    "        x = self.flatten(x)\n",
    "        x = self.fc1(x)\n",
    "        x = self.fc2(x)\n",
    "        return x\n",
    "\n",
    "\n",
    "def test_TwoLayerFC():\n",
    "    \"\"\" A small unit test to exercise the TwoLayerFC model above. \"\"\"\n",
    "    input_size, hidden_size, num_classes = 50, 42, 10\n",
    "    x = tf.zeros((64, input_size))\n",
    "    model = TwoLayerFC(hidden_size, num_classes)\n",
    "    with tf.device(device):\n",
    "        scores = model(x)\n",
    "        print(scores.shape)\n",
    "        \n",
    "test_TwoLayerFC()"
   ]
  },
  {
   "cell_type": "markdown",
   "metadata": {},
   "source": [
    "Реализуйте трехслойную CNN для вашей задачи классификации. \n",
    "\n",
    "Архитектура сети:\n",
    "    \n",
    "1. Сверточный слой (5 x 5 kernels, zero-padding = 'same')\n",
    "2. Функция активации ReLU \n",
    "3. Сверточный слой (3 x 3 kernels, zero-padding = 'same')\n",
    "4. Функция активации ReLU \n",
    "5. Полносвязный слой \n",
    "6. Функция активации Softmax \n",
    "\n",
    "https://www.tensorflow.org/versions/r2.0/api_docs/python/tf/keras/layers/Conv2D\n",
    "\n",
    "https://www.tensorflow.org/versions/r2.0/api_docs/python/tf/keras/layers/Dense"
   ]
  },
  {
   "cell_type": "code",
   "execution_count": 7,
   "metadata": {},
   "outputs": [],
   "source": [
    "class ThreeLayerConvNet(tf.keras.Model):\n",
    "    def __init__(self, channel_1, channel_2, num_classes):\n",
    "        super(ThreeLayerConvNet, self).__init__()\n",
    "        ########################################################################\n",
    "        # TODO: Implement the __init__ method for a three-layer ConvNet. You   #\n",
    "        # should instantiate layer objects to be used in the forward pass.     #\n",
    "        ########################################################################\n",
    "        # *****START OF YOUR CODE (DO NOT DELETE/MODIFY THIS LINE)*****\n",
    "\n",
    "        initializer = tf.initializers.VarianceScaling(scale=2.0)\n",
    "        self.conv1 = tf.keras.layers.Conv2D(channel_1, (5, 5), padding='same', activation='relu', kernel_initializer=initializer)\n",
    "        self.conv2 = tf.keras.layers.Conv2D(channel_2, (3, 3), padding='same', activation='relu', kernel_initializer=initializer)\n",
    "        self.flatten = tf.keras.layers.Flatten()\n",
    "        self.fc = tf.keras.layers.Dense(num_classes, activation='softmax', kernel_initializer=initializer)\n",
    "\n",
    "        # *****END OF YOUR CODE (DO NOT DELETE/MODIFY THIS LINE)*****\n",
    "        ########################################################################\n",
    "        #                           END OF YOUR CODE                           #\n",
    "        ########################################################################\n",
    "        \n",
    "    def call(self, x, training=False):\n",
    "        scores = None\n",
    "        ########################################################################\n",
    "        # TODO: Implement the forward pass for a three-layer ConvNet. You      #\n",
    "        # should use the layer objects defined in the __init__ method.         #\n",
    "        ########################################################################\n",
    "        # *****START OF YOUR CODE (DO NOT DELETE/MODIFY THIS LINE)*****\n",
    "\n",
    "        scores = self.conv1(x)\n",
    "        scores = self.conv2(scores)\n",
    "        scores = self.flatten(scores)\n",
    "        scores = self.fc(scores)\n",
    "\n",
    "        # *****END OF YOUR CODE (DO NOT DELETE/MODIFY THIS LINE)*****\n",
    "        ########################################################################\n",
    "        #                           END OF YOUR CODE                           #\n",
    "        ########################################################################        \n",
    "        return scores"
   ]
  },
  {
   "cell_type": "code",
   "execution_count": 8,
   "metadata": {},
   "outputs": [
    {
     "name": "stdout",
     "output_type": "stream",
     "text": [
      "(64, 10)\n"
     ]
    }
   ],
   "source": [
    "def test_ThreeLayerConvNet():    \n",
    "    channel_1, channel_2, num_classes = 12, 8, 10\n",
    "    model = ThreeLayerConvNet(channel_1, channel_2, num_classes)\n",
    "    with tf.device(device):\n",
    "        x = tf.zeros((64, 3, 32, 32))\n",
    "        scores = model(x)\n",
    "        print(scores.shape)\n",
    "\n",
    "test_ThreeLayerConvNet()"
   ]
  },
  {
   "cell_type": "markdown",
   "metadata": {},
   "source": [
    "Пример реализации процесса обучения:"
   ]
  },
  {
   "cell_type": "code",
   "execution_count": 9,
   "metadata": {},
   "outputs": [],
   "source": [
    "def train_part34(model_init_fn, optimizer_init_fn, num_epochs=1, is_training=False):\n",
    "    \"\"\"\n",
    "    Simple training loop for use with models defined using tf.keras. It trains\n",
    "    a model for one epoch on the MNIST training set and periodically checks\n",
    "    accuracy on the MNIST validation set.\n",
    "    \n",
    "    Inputs:\n",
    "    - model_init_fn: A function that takes no parameters; when called it\n",
    "      constructs the model we want to train: model = model_init_fn()\n",
    "    - optimizer_init_fn: A function which takes no parameters; when called it\n",
    "      constructs the Optimizer object we will use to optimize the model:\n",
    "      optimizer = optimizer_init_fn()\n",
    "    - num_epochs: The number of epochs to train for\n",
    "    \n",
    "    Returns: Nothing, but prints progress during trainingn\n",
    "    \"\"\"    \n",
    "    with tf.device(device):\n",
    "        loss_fn = tf.keras.losses.SparseCategoricalCrossentropy()\n",
    "        \n",
    "        model = model_init_fn()\n",
    "        optimizer = optimizer_init_fn()\n",
    "        \n",
    "        train_loss = tf.keras.metrics.Mean(name='train_loss')\n",
    "        train_accuracy = tf.keras.metrics.SparseCategoricalAccuracy(name='train_accuracy')\n",
    "    \n",
    "        val_loss = tf.keras.metrics.Mean(name='val_loss')\n",
    "        val_accuracy = tf.keras.metrics.SparseCategoricalAccuracy(name='val_accuracy')\n",
    "        \n",
    "        i = 0\n",
    "        for epoch in range(num_epochs):\n",
    "            \n",
    "            # Reset the metrics - https://www.tensorflow.org/alpha/guide/migration_guide#new-style_metrics\n",
    "            train_loss.reset_state()\n",
    "            train_accuracy.reset_state()\n",
    "            \n",
    "            for x_np, y_np in train_dset:\n",
    "                with tf.GradientTape() as tape:\n",
    "                    \n",
    "                    # Use the model function to build the forward pass.\n",
    "                    scores = model(x_np, training=is_training)\n",
    "                    loss = loss_fn(y_np, scores)\n",
    "      \n",
    "                    gradients = tape.gradient(loss, model.trainable_variables)\n",
    "                    optimizer.apply_gradients(zip(gradients, model.trainable_variables))\n",
    "                    \n",
    "                    # Update the metrics\n",
    "                    train_loss.update_state(loss)\n",
    "                    train_accuracy.update_state(y_np, scores)\n",
    "                    \n",
    "                    if i % print_every == 0:\n",
    "                        val_loss.reset_state()\n",
    "                        val_accuracy.reset_state()\n",
    "                        for test_x, test_y in val_dset:\n",
    "                            # During validation at end of epoch, training set to False\n",
    "                            prediction = model(test_x, training=False)\n",
    "                            t_loss = loss_fn(test_y, prediction)\n",
    "\n",
    "                            val_loss.update_state(t_loss)\n",
    "                            val_accuracy.update_state(test_y, prediction)\n",
    "                        \n",
    "                        template = 'Iteration {}, Epoch {}, Loss: {}, Accuracy: {}, Val Loss: {}, Val Accuracy: {}'\n",
    "                        print (template.format(i, epoch + 1,\n",
    "                                             train_loss.result(),\n",
    "                                             train_accuracy.result() * 100,\n",
    "                                             val_loss.result(),\n",
    "                                             val_accuracy.result() * 100))\n",
    "                    i += 1"
   ]
  },
  {
   "cell_type": "code",
   "execution_count": 10,
   "metadata": {},
   "outputs": [
    {
     "name": "stdout",
     "output_type": "stream",
     "text": [
      "Iteration 0, Epoch 1, Loss: 2.807525157928467, Accuracy: 4.6875, Val Loss: 2.8451218605041504, Val Accuracy: 13.699999809265137\n",
      "Iteration 100, Epoch 1, Loss: 2.2336370944976807, Accuracy: 28.217823028564453, Val Loss: 1.8982609510421753, Val Accuracy: 37.5\n",
      "Iteration 200, Epoch 1, Loss: 2.0765202045440674, Accuracy: 31.91853141784668, Val Loss: 1.8570573329925537, Val Accuracy: 38.60000228881836\n",
      "Iteration 300, Epoch 1, Loss: 2.0014705657958984, Accuracy: 33.850704193115234, Val Loss: 1.8679765462875366, Val Accuracy: 37.29999923706055\n",
      "Iteration 400, Epoch 1, Loss: 1.933796763420105, Accuracy: 35.7465705871582, Val Loss: 1.7132222652435303, Val Accuracy: 41.29999923706055\n",
      "Iteration 500, Epoch 1, Loss: 1.8893852233886719, Accuracy: 36.96669006347656, Val Loss: 1.6431317329406738, Val Accuracy: 43.20000076293945\n",
      "Iteration 600, Epoch 1, Loss: 1.8591744899749756, Accuracy: 37.77298355102539, Val Loss: 1.7106341123580933, Val Accuracy: 42.20000076293945\n",
      "Iteration 700, Epoch 1, Loss: 1.8346666097640991, Accuracy: 38.498573303222656, Val Loss: 1.633246660232544, Val Accuracy: 45.10000228881836\n"
     ]
    }
   ],
   "source": [
    "hidden_size, num_classes = 4000, 10\n",
    "learning_rate = 1e-2\n",
    "print_every = 100\n",
    "\n",
    "def model_init_fn():\n",
    "    return TwoLayerFC(hidden_size, num_classes)\n",
    "\n",
    "def optimizer_init_fn():\n",
    "    return tf.keras.optimizers.SGD(learning_rate=learning_rate)\n",
    "\n",
    "train_part34(model_init_fn, optimizer_init_fn)"
   ]
  },
  {
   "cell_type": "markdown",
   "metadata": {},
   "source": [
    "Обучите трехслойную CNN. В tf.keras.optimizers.SGD укажите Nesterov momentum = 0.9 . \n",
    "\n",
    "https://www.tensorflow.org/versions/r2.0/api_docs/python/tf/optimizers/SGD\n",
    "\n",
    "Значение accuracy на валидационной выборке после 1 эпохи обучения должно быть > 50% ."
   ]
  },
  {
   "cell_type": "code",
   "execution_count": 11,
   "metadata": {},
   "outputs": [
    {
     "name": "stdout",
     "output_type": "stream",
     "text": [
      "Iteration 0, Epoch 1, Loss: 3.2870841026306152, Accuracy: 9.375, Val Loss: 3.582383871078491, Val Accuracy: 14.0\n",
      "Iteration 100, Epoch 1, Loss: 1.9755779504776, Accuracy: 32.33292007446289, Val Loss: 1.6516742706298828, Val Accuracy: 43.20000076293945\n",
      "Iteration 200, Epoch 1, Loss: 1.7890347242355347, Accuracy: 37.78762435913086, Val Loss: 1.4892115592956543, Val Accuracy: 46.79999923706055\n",
      "Iteration 300, Epoch 1, Loss: 1.6885827779769897, Accuracy: 41.04547119140625, Val Loss: 1.4063520431518555, Val Accuracy: 50.70000457763672\n",
      "Iteration 400, Epoch 1, Loss: 1.6092686653137207, Accuracy: 43.637001037597656, Val Loss: 1.3526923656463623, Val Accuracy: 52.70000076293945\n",
      "Iteration 500, Epoch 1, Loss: 1.5523571968078613, Accuracy: 45.565120697021484, Val Loss: 1.294385313987732, Val Accuracy: 54.5\n",
      "Iteration 600, Epoch 1, Loss: 1.5149117708206177, Accuracy: 46.84640121459961, Val Loss: 1.2912663221359253, Val Accuracy: 54.79999923706055\n",
      "Iteration 700, Epoch 1, Loss: 1.4819101095199585, Accuracy: 47.99393844604492, Val Loss: 1.275709629058838, Val Accuracy: 54.400001525878906\n"
     ]
    }
   ],
   "source": [
    "learning_rate = 3e-3\n",
    "channel_1, channel_2, num_classes = 32, 16, 10\n",
    "\n",
    "def model_init_fn():\n",
    "    model = None\n",
    "    ############################################################################\n",
    "    # TODO: Complete the implementation of model_fn.                           #\n",
    "    ############################################################################\n",
    "    # *****START OF YOUR CODE (DO NOT DELETE/MODIFY THIS LINE)*****\n",
    "\n",
    "    model = ThreeLayerConvNet(channel_1, channel_2, num_classes)\n",
    "\n",
    "    # *****END OF YOUR CODE (DO NOT DELETE/MODIFY THIS LINE)*****\n",
    "    ############################################################################\n",
    "    #                           END OF YOUR CODE                               #\n",
    "    ############################################################################\n",
    "    return model\n",
    "\n",
    "def optimizer_init_fn():\n",
    "    optimizer = None\n",
    "    ############################################################################\n",
    "    # TODO: Complete the implementation of model_fn.                           #\n",
    "    ############################################################################\n",
    "    # *****START OF YOUR CODE (DO NOT DELETE/MODIFY THIS LINE)*****\n",
    "\n",
    "    optimizer = tf.keras.optimizers.SGD(learning_rate, 0.9, nesterov=True)\n",
    "\n",
    "    # *****END OF YOUR CODE (DO NOT DELETE/MODIFY THIS LINE)*****\n",
    "    ############################################################################\n",
    "    #                           END OF YOUR CODE                               #\n",
    "    ############################################################################\n",
    "    return optimizer\n",
    "\n",
    "train_part34(model_init_fn, optimizer_init_fn)"
   ]
  },
  {
   "cell_type": "markdown",
   "metadata": {},
   "source": [
    "# Использование Keras Sequential API для реализации последовательных моделей.\n",
    "\n",
    "Пример для полносвязной сети:"
   ]
  },
  {
   "cell_type": "code",
   "execution_count": 12,
   "metadata": {},
   "outputs": [
    {
     "name": "stderr",
     "output_type": "stream",
     "text": [
      "C:\\Users\\_Asus_\\AppData\\Local\\Programs\\Python\\Python311\\Lib\\site-packages\\keras\\src\\layers\\reshaping\\flatten.py:37: UserWarning: Do not pass an `input_shape`/`input_dim` argument to a layer. When using Sequential models, prefer using an `Input(shape)` object as the first layer in the model instead.\n",
      "  super().__init__(**kwargs)\n"
     ]
    },
    {
     "name": "stdout",
     "output_type": "stream",
     "text": [
      "Iteration 0, Epoch 1, Loss: 2.81013560295105, Accuracy: 14.0625, Val Loss: 2.8950588703155518, Val Accuracy: 12.100000381469727\n",
      "Iteration 100, Epoch 1, Loss: 2.235530376434326, Accuracy: 28.97586441040039, Val Loss: 1.919697642326355, Val Accuracy: 37.20000076293945\n",
      "Iteration 200, Epoch 1, Loss: 2.0761966705322266, Accuracy: 32.57929229736328, Val Loss: 1.8408478498458862, Val Accuracy: 39.39999771118164\n",
      "Iteration 300, Epoch 1, Loss: 2.0039479732513428, Accuracy: 34.24003601074219, Val Loss: 1.8919141292572021, Val Accuracy: 37.70000076293945\n",
      "Iteration 400, Epoch 1, Loss: 1.9356919527053833, Accuracy: 36.0310173034668, Val Loss: 1.7334827184677124, Val Accuracy: 41.10000228881836\n",
      "Iteration 500, Epoch 1, Loss: 1.890637993812561, Accuracy: 37.07584762573242, Val Loss: 1.6565459966659546, Val Accuracy: 43.20000076293945\n",
      "Iteration 600, Epoch 1, Loss: 1.8603553771972656, Accuracy: 37.921173095703125, Val Loss: 1.7027995586395264, Val Accuracy: 41.400001525878906\n",
      "Iteration 700, Epoch 1, Loss: 1.8349605798721313, Accuracy: 38.61225128173828, Val Loss: 1.657358169555664, Val Accuracy: 44.10000228881836\n"
     ]
    }
   ],
   "source": [
    "learning_rate = 1e-2\n",
    "\n",
    "def model_init_fn():\n",
    "    input_shape = (32, 32, 3)\n",
    "    hidden_layer_size, num_classes = 4000, 10\n",
    "    initializer = tf.initializers.VarianceScaling(scale=2.0)\n",
    "    layers = [\n",
    "        tf.keras.layers.Flatten(input_shape=input_shape),\n",
    "        tf.keras.layers.Dense(hidden_layer_size, activation='relu',\n",
    "                              kernel_initializer=initializer),\n",
    "        tf.keras.layers.Dense(num_classes, activation='softmax', \n",
    "                              kernel_initializer=initializer),\n",
    "    ]\n",
    "    model = tf.keras.Sequential(layers)\n",
    "    return model\n",
    "\n",
    "def optimizer_init_fn():\n",
    "    return tf.keras.optimizers.SGD(learning_rate=learning_rate) \n",
    "\n",
    "train_part34(model_init_fn, optimizer_init_fn)"
   ]
  },
  {
   "cell_type": "markdown",
   "metadata": {},
   "source": [
    "Альтернативный менее гибкий способ обучения:"
   ]
  },
  {
   "cell_type": "code",
   "execution_count": 13,
   "metadata": {},
   "outputs": [
    {
     "name": "stdout",
     "output_type": "stream",
     "text": [
      "\u001b[1m766/766\u001b[0m \u001b[32m━━━━━━━━━━━━━━━━━━━━\u001b[0m\u001b[37m\u001b[0m \u001b[1m34s\u001b[0m 44ms/step - loss: 2.0163 - sparse_categorical_accuracy: 0.3364 - val_loss: 1.6836 - val_sparse_categorical_accuracy: 0.4280\n",
      "\u001b[1m313/313\u001b[0m \u001b[32m━━━━━━━━━━━━━━━━━━━━\u001b[0m\u001b[37m\u001b[0m \u001b[1m2s\u001b[0m 8ms/step - loss: 1.7411 - sparse_categorical_accuracy: 0.4200\n"
     ]
    },
    {
     "data": {
      "text/plain": [
       "[1.7572673559188843, 0.4156999886035919]"
      ]
     },
     "execution_count": 13,
     "metadata": {},
     "output_type": "execute_result"
    }
   ],
   "source": [
    "model = model_init_fn()\n",
    "model.compile(optimizer=tf.keras.optimizers.SGD(learning_rate=learning_rate),\n",
    "              loss='sparse_categorical_crossentropy',\n",
    "              metrics=[tf.keras.metrics.sparse_categorical_accuracy])\n",
    "model.fit(X_train, y_train, batch_size=64, epochs=1, validation_data=(X_val, y_val))\n",
    "model.evaluate(X_test, y_test)"
   ]
  },
  {
   "cell_type": "markdown",
   "metadata": {},
   "source": [
    "Перепишите реализацию трехслойной CNN с помощью tf.keras.Sequential API . Обучите модель двумя способами."
   ]
  },
  {
   "cell_type": "code",
   "execution_count": 14,
   "metadata": {},
   "outputs": [
    {
     "name": "stdout",
     "output_type": "stream",
     "text": [
      "Iteration 0, Epoch 1, Loss: 2.396503448486328, Accuracy: 18.75, Val Loss: 2.7217164039611816, Val Accuracy: 10.0\n",
      "Iteration 100, Epoch 1, Loss: 2.031841278076172, Accuracy: 27.70730209350586, Val Loss: 1.8510446548461914, Val Accuracy: 35.400001525878906\n",
      "Iteration 200, Epoch 1, Loss: 1.907713770866394, Accuracy: 32.52487564086914, Val Loss: 1.709571123123169, Val Accuracy: 41.400001525878906\n",
      "Iteration 300, Epoch 1, Loss: 1.8330013751983643, Accuracy: 35.21075439453125, Val Loss: 1.6601403951644897, Val Accuracy: 42.69999694824219\n",
      "Iteration 400, Epoch 1, Loss: 1.7693586349487305, Accuracy: 37.70651626586914, Val Loss: 1.6055705547332764, Val Accuracy: 43.79999923706055\n",
      "Iteration 500, Epoch 1, Loss: 1.7241100072860718, Accuracy: 39.240272521972656, Val Loss: 1.5422197580337524, Val Accuracy: 45.29999923706055\n",
      "Iteration 600, Epoch 1, Loss: 1.6940221786499023, Accuracy: 40.39621353149414, Val Loss: 1.5343222618103027, Val Accuracy: 46.5\n",
      "Iteration 700, Epoch 1, Loss: 1.6665406227111816, Accuracy: 41.50543975830078, Val Loss: 1.4862452745437622, Val Accuracy: 48.10000228881836\n"
     ]
    }
   ],
   "source": [
    "def model_init_fn():\n",
    "    model = None\n",
    "    ############################################################################\n",
    "    # TODO: Construct a three-layer ConvNet using tf.keras.Sequential.         #\n",
    "    ############################################################################\n",
    "    # *****START OF YOUR CODE (DO NOT DELETE/MODIFY THIS LINE)*****\n",
    "\n",
    "    channel_1, channel_2, num_classes = 32, 16, 10\n",
    "    initializer = tf.initializers.VarianceScaling(scale=2.0)\n",
    "    layers = [\n",
    "        tf.keras.layers.Input(shape=(32, 32, 3)),\n",
    "        tf.keras.layers.Conv2D(channel_1, (5, 5), padding='same', activation='relu', kernel_initializer=initializer),\n",
    "        tf.keras.layers.Conv2D(channel_2, (3, 3), padding='same', activation='relu', kernel_initializer=initializer),\n",
    "        tf.keras.layers.Flatten(),\n",
    "        tf.keras.layers.Dense(num_classes, activation='softmax', kernel_initializer=initializer)\n",
    "    ]\n",
    "    model = tf.keras.Sequential(layers)\n",
    "    \n",
    "    # *****END OF YOUR CODE (DO NOT DELETE/MODIFY THIS LINE)*****\n",
    "    ############################################################################\n",
    "    #                            END OF YOUR CODE                              #\n",
    "    ############################################################################\n",
    "    return model\n",
    "\n",
    "learning_rate = 5e-4\n",
    "def optimizer_init_fn():\n",
    "    optimizer = None\n",
    "    ############################################################################\n",
    "    # TODO: Complete the implementation of model_fn.                           #\n",
    "    ############################################################################\n",
    "    # *****START OF YOUR CODE (DO NOT DELETE/MODIFY THIS LINE)*****\n",
    "\n",
    "    optimizer = tf.keras.optimizers.SGD(learning_rate, momentum=0.9, nesterov=True)\n",
    "\n",
    "    # *****END OF YOUR CODE (DO NOT DELETE/MODIFY THIS LINE)*****\n",
    "    ############################################################################\n",
    "    #                           END OF YOUR CODE                               #\n",
    "    ############################################################################\n",
    "    return optimizer\n",
    "\n",
    "train_part34(model_init_fn, optimizer_init_fn)"
   ]
  },
  {
   "cell_type": "code",
   "execution_count": 15,
   "metadata": {},
   "outputs": [
    {
     "name": "stdout",
     "output_type": "stream",
     "text": [
      "\u001b[1m766/766\u001b[0m \u001b[32m━━━━━━━━━━━━━━━━━━━━\u001b[0m\u001b[37m\u001b[0m \u001b[1m15s\u001b[0m 20ms/step - loss: 1.7843 - sparse_categorical_accuracy: 0.3824 - val_loss: 1.4151 - val_sparse_categorical_accuracy: 0.5060\n",
      "\u001b[1m313/313\u001b[0m \u001b[32m━━━━━━━━━━━━━━━━━━━━\u001b[0m\u001b[37m\u001b[0m \u001b[1m1s\u001b[0m 4ms/step - loss: 1.4511 - sparse_categorical_accuracy: 0.4854\n"
     ]
    },
    {
     "data": {
      "text/plain": [
       "[1.4483753442764282, 0.49160000681877136]"
      ]
     },
     "execution_count": 15,
     "metadata": {},
     "output_type": "execute_result"
    }
   ],
   "source": [
    "model = model_init_fn()\n",
    "model.compile(optimizer='sgd',\n",
    "              loss='sparse_categorical_crossentropy',\n",
    "              metrics=[tf.keras.metrics.sparse_categorical_accuracy])\n",
    "model.fit(X_train, y_train, batch_size=64, epochs=1, validation_data=(X_val, y_val))\n",
    "model.evaluate(X_test, y_test)"
   ]
  },
  {
   "cell_type": "markdown",
   "metadata": {},
   "source": [
    "# Использование Keras Functional API\n",
    "\n",
    "Для реализации более сложных архитектур сети с несколькими входами/выходами, повторным использованием слоев, \"остаточными\" связями (residual connections) необходимо явно указать входные и выходные тензоры. \n",
    "\n",
    "Ниже представлен пример для полносвязной сети. "
   ]
  },
  {
   "cell_type": "code",
   "execution_count": 16,
   "metadata": {},
   "outputs": [
    {
     "name": "stdout",
     "output_type": "stream",
     "text": [
      "(64, 10)\n"
     ]
    }
   ],
   "source": [
    "def two_layer_fc_functional(input_shape, hidden_size, num_classes):  \n",
    "    initializer = tf.initializers.VarianceScaling(scale=2.0)\n",
    "    inputs = tf.keras.Input(shape=input_shape)\n",
    "    flattened_inputs = tf.keras.layers.Flatten()(inputs)\n",
    "    fc1_output = tf.keras.layers.Dense(hidden_size, activation='relu',\n",
    "                                 kernel_initializer=initializer)(flattened_inputs)\n",
    "    scores = tf.keras.layers.Dense(num_classes, activation='softmax',\n",
    "                             kernel_initializer=initializer)(fc1_output)\n",
    "\n",
    "    # Instantiate the model given inputs and outputs.\n",
    "    model = tf.keras.Model(inputs=inputs, outputs=scores)\n",
    "    return model\n",
    "\n",
    "def test_two_layer_fc_functional():\n",
    "    \"\"\" A small unit test to exercise the TwoLayerFC model above. \"\"\"\n",
    "    input_size, hidden_size, num_classes = 50, 42, 10\n",
    "    input_shape = (50,)\n",
    "    \n",
    "    x = tf.zeros((64, input_size))\n",
    "    model = two_layer_fc_functional(input_shape, hidden_size, num_classes)\n",
    "    \n",
    "    with tf.device(device):\n",
    "        scores = model(x)\n",
    "        print(scores.shape)\n",
    "        \n",
    "test_two_layer_fc_functional()"
   ]
  },
  {
   "cell_type": "code",
   "execution_count": 17,
   "metadata": {},
   "outputs": [
    {
     "name": "stdout",
     "output_type": "stream",
     "text": [
      "Iteration 0, Epoch 1, Loss: 3.085843086242676, Accuracy: 12.5, Val Loss: 2.745102882385254, Val Accuracy: 13.09999942779541\n",
      "Iteration 100, Epoch 1, Loss: 2.211057662963867, Accuracy: 28.97586441040039, Val Loss: 1.8858118057250977, Val Accuracy: 37.79999923706055\n",
      "Iteration 200, Epoch 1, Loss: 2.05918288230896, Accuracy: 32.39272689819336, Val Loss: 1.8582072257995605, Val Accuracy: 38.20000076293945\n",
      "Iteration 300, Epoch 1, Loss: 1.989976406097412, Accuracy: 34.18293380737305, Val Loss: 1.8867124319076538, Val Accuracy: 37.29999923706055\n",
      "Iteration 400, Epoch 1, Loss: 1.9229463338851929, Accuracy: 36.00763702392578, Val Loss: 1.720579743385315, Val Accuracy: 41.20000076293945\n",
      "Iteration 500, Epoch 1, Loss: 1.8794021606445312, Accuracy: 37.103919982910156, Val Loss: 1.661085844039917, Val Accuracy: 43.0\n",
      "Iteration 600, Epoch 1, Loss: 1.8494094610214233, Accuracy: 37.965370178222656, Val Loss: 1.6953469514846802, Val Accuracy: 42.099998474121094\n",
      "Iteration 700, Epoch 1, Loss: 1.8244905471801758, Accuracy: 38.74598693847656, Val Loss: 1.6447081565856934, Val Accuracy: 43.70000076293945\n"
     ]
    }
   ],
   "source": [
    "input_shape = (32, 32, 3)\n",
    "hidden_size, num_classes = 4000, 10\n",
    "learning_rate = 1e-2\n",
    "\n",
    "def model_init_fn():\n",
    "    return two_layer_fc_functional(input_shape, hidden_size, num_classes)\n",
    "\n",
    "def optimizer_init_fn():\n",
    "    return tf.keras.optimizers.SGD(learning_rate=learning_rate)\n",
    "\n",
    "train_part34(model_init_fn, optimizer_init_fn)"
   ]
  },
  {
   "cell_type": "markdown",
   "metadata": {},
   "source": []
  },
  {
   "cell_type": "markdown",
   "metadata": {},
   "source": [
    "Поэкспериментируйте с архитектурой сверточной сети. Для вашего набора данных вам необходимо получить как минимум 70% accuracy на валидационной выборке за 10 эпох обучения. Опишите все эксперименты и сделайте выводы (без выполнения данного пункта работы приниматься не будут). \n",
    "\n",
    "Эспериментируйте с архитектурой, гиперпараметрами, функцией потерь, регуляризацией, методом оптимизации.  \n",
    "\n",
    "https://www.tensorflow.org/versions/r2.0/api_docs/python/tf/keras/layers/BatchNormalization#methods https://www.tensorflow.org/versions/r2.0/api_docs/python/tf/keras/layers/Dropout#methods"
   ]
  },
  {
   "cell_type": "code",
   "execution_count": 18,
   "metadata": {},
   "outputs": [
    {
     "name": "stderr",
     "output_type": "stream",
     "text": [
      "C:\\Users\\_Asus_\\AppData\\Local\\Programs\\Python\\Python311\\Lib\\site-packages\\keras\\src\\layers\\convolutional\\base_conv.py:99: UserWarning: Do not pass an `input_shape`/`input_dim` argument to a layer. When using Sequential models, prefer using an `Input(shape)` object as the first layer in the model instead.\n",
      "  super().__init__(\n"
     ]
    },
    {
     "name": "stdout",
     "output_type": "stream",
     "text": [
      "Iteration 0, Epoch 1, Loss: 5.302567958831787, Accuracy: 12.5, Val Loss: 4.010174751281738, Val Accuracy: 11.800000190734863\n",
      "Iteration 700, Epoch 1, Loss: 1.7687824964523315, Accuracy: 37.8521728515625, Val Loss: 1.5573753118515015, Val Accuracy: 44.80000305175781\n",
      "Iteration 1400, Epoch 2, Loss: 1.4606837034225464, Accuracy: 47.947837829589844, Val Loss: 1.4408284425735474, Val Accuracy: 47.29999923706055\n",
      "Iteration 2100, Epoch 3, Loss: 1.3456016778945923, Accuracy: 52.03207015991211, Val Loss: 1.3914951086044312, Val Accuracy: 50.19999694824219\n",
      "Iteration 2800, Epoch 4, Loss: 1.260055422782898, Accuracy: 55.100643157958984, Val Loss: 1.3200856447219849, Val Accuracy: 51.20000076293945\n",
      "Iteration 3500, Epoch 5, Loss: 1.198090672492981, Accuracy: 57.63372039794922, Val Loss: 1.2911622524261475, Val Accuracy: 54.10000228881836\n",
      "Iteration 4200, Epoch 6, Loss: 1.1465669870376587, Accuracy: 59.492919921875, Val Loss: 1.2711378335952759, Val Accuracy: 55.599998474121094\n"
     ]
    }
   ],
   "source": [
    "class CustomConvNet_with_pool(tf.keras.Model):\n",
    "    def __init__(self):\n",
    "        super(CustomConvNet_with_pool, self).__init__()\n",
    "        ############################################################################\n",
    "        # TODO: Construct a model that performs well on CIFAR-10                   #\n",
    "        ############################################################################\n",
    "        # *****START OF YOUR CODE (DO NOT DELETE/MODIFY THIS LINE)*****\n",
    "\n",
    "        channels, num_classes = [32, 64], [100, 10]\n",
    "        \n",
    "        initializer = tf.initializers.VarianceScaling(scale=2.0)\n",
    "\n",
    "        # Определение сверточных слоев\n",
    "        self.conv1 = tf.keras.layers.Conv2D(channels[0], (5, 5), (3, 3), padding='same', kernel_initializer=initializer, input_shape=(32, 32, 3))\n",
    "        self.conv2 = tf.keras.layers.Conv2D(channels[1], (3, 3), (3, 3), padding='same', kernel_initializer=initializer)\n",
    "        self.pool = tf.keras.layers.MaxPooling2D(pool_size=(2, 2))\n",
    "        \n",
    "        # Слой для развертывания\n",
    "        self.fl = tf.keras.layers.Flatten()\n",
    "        self.fc1 = tf.keras.layers.Dense(num_classes[0], activation='relu', kernel_initializer=initializer)  \n",
    "        self.fc2 = tf.keras.layers.Dense(num_classes[1], activation='softmax', kernel_initializer=initializer)             \n",
    "\n",
    "        # *****END OF YOUR CODE (DO NOT DELETE/MODIFY THIS LINE)*****\n",
    "        ############################################################################\n",
    "        #                            END OF YOUR CODE                              #\n",
    "        ############################################################################\n",
    "    \n",
    "    def call(self, input_tensor, training=False):\n",
    "        ############################################################################\n",
    "        # TODO: Construct a model that performs well on CIFAR-10                   #\n",
    "        ############################################################################\n",
    "        # *****START OF YOUR CODE (DO NOT DELETE/MODIFY THIS LINE)*****\n",
    "\n",
    "        x = self.conv1(input_tensor)        \n",
    "        x = self.conv2(x)\n",
    "        x = self.pool(x)\n",
    "\n",
    "        x = self.fl(x)\n",
    "        x = self.fc1(x)\n",
    "        x = self.fc2(x)\n",
    "\n",
    "        # *****END OF YOUR CODE (DO NOT DELETE/MODIFY THIS LINE)*****\n",
    "        ############################################################################\n",
    "        #                            END OF YOUR CODE                              #\n",
    "        ############################################################################\n",
    "        return x\n",
    "\n",
    "\n",
    "print_every = 700\n",
    "num_epochs = 6\n",
    "\n",
    "model = CustomConvNet_with_pool()\n",
    "\n",
    "def model_init_fn():\n",
    "    return CustomConvNet_with_pool()\n",
    "\n",
    "def optimizer_init_fn():\n",
    "    learning_rate = 1e-3\n",
    "    return tf.keras.optimizers.Adam(learning_rate) \n",
    "\n",
    "train_part34(model_init_fn, optimizer_init_fn, num_epochs=num_epochs, is_training=True)"
   ]
  },
  {
   "cell_type": "code",
   "execution_count": 19,
   "metadata": {},
   "outputs": [
    {
     "name": "stdout",
     "output_type": "stream",
     "text": [
      "Iteration 0, Epoch 1, Loss: 4.316521644592285, Accuracy: 9.375, Val Loss: 4.7897725105285645, Val Accuracy: 6.099999904632568\n",
      "Iteration 700, Epoch 1, Loss: 2.3670122623443604, Accuracy: 19.699535369873047, Val Loss: 2.087339401245117, Val Accuracy: 23.0\n",
      "Iteration 1400, Epoch 2, Loss: 2.025083303451538, Accuracy: 27.207183837890625, Val Loss: 1.9645044803619385, Val Accuracy: 28.299999237060547\n",
      "Iteration 2100, Epoch 3, Loss: 1.9332650899887085, Accuracy: 30.76120376586914, Val Loss: 1.8954578638076782, Val Accuracy: 31.099998474121094\n",
      "Iteration 2800, Epoch 4, Loss: 1.8764898777008057, Accuracy: 32.98645782470703, Val Loss: 1.8504605293273926, Val Accuracy: 33.5\n",
      "Iteration 3500, Epoch 5, Loss: 1.8343899250030518, Accuracy: 34.721824645996094, Val Loss: 1.8103399276733398, Val Accuracy: 35.20000076293945\n",
      "Iteration 4200, Epoch 6, Loss: 1.8040720224380493, Accuracy: 35.91644287109375, Val Loss: 1.7782799005508423, Val Accuracy: 35.29999923706055\n"
     ]
    }
   ],
   "source": [
    "def model_init_fn():\n",
    "    return CustomConvNet_with_pool()\n",
    "\n",
    "# Let's try SGD optimizer\n",
    "def optimizer_init_fn():\n",
    "    learning_rate = 1e-3\n",
    "    return tf.keras.optimizers.SGD(learning_rate)\n",
    "\n",
    "train_part34(model_init_fn, optimizer_init_fn, num_epochs=num_epochs, is_training=True)"
   ]
  },
  {
   "cell_type": "code",
   "execution_count": 20,
   "metadata": {},
   "outputs": [
    {
     "name": "stdout",
     "output_type": "stream",
     "text": [
      "Iteration 0, Epoch 1, Loss: 2.589946746826172, Accuracy: 7.8125, Val Loss: 3.2146408557891846, Val Accuracy: 12.0\n",
      "Iteration 700, Epoch 1, Loss: 1.3923286199569702, Accuracy: 52.1197395324707, Val Loss: 1.223808765411377, Val Accuracy: 57.20000457763672\n",
      "Iteration 1400, Epoch 2, Loss: 0.9954715967178345, Accuracy: 65.32479858398438, Val Loss: 1.0613938570022583, Val Accuracy: 64.60000610351562\n",
      "Iteration 2100, Epoch 3, Loss: 0.8661055564880371, Accuracy: 70.16146850585938, Val Loss: 0.9599947333335876, Val Accuracy: 66.5999984741211\n",
      "Iteration 2800, Epoch 4, Loss: 0.7836273908615112, Accuracy: 73.055419921875, Val Loss: 0.9912348389625549, Val Accuracy: 65.69999694824219\n",
      "Iteration 3500, Epoch 5, Loss: 0.7249841094017029, Accuracy: 74.87843322753906, Val Loss: 0.9470499157905579, Val Accuracy: 68.4000015258789\n",
      "Iteration 4200, Epoch 6, Loss: 0.6773635745048523, Accuracy: 76.70147705078125, Val Loss: 0.9566137194633484, Val Accuracy: 68.0999984741211\n",
      "Iteration 4900, Epoch 7, Loss: 0.629531979560852, Accuracy: 78.29917907714844, Val Loss: 0.9373884201049805, Val Accuracy: 67.79999542236328\n",
      "Iteration 5600, Epoch 8, Loss: 0.5872953534126282, Accuracy: 79.58943176269531, Val Loss: 0.8899614214897156, Val Accuracy: 69.5999984741211\n",
      "Iteration 6300, Epoch 9, Loss: 0.5479706525802612, Accuracy: 80.87969207763672, Val Loss: 0.9143638610839844, Val Accuracy: 70.9000015258789\n",
      "Iteration 7000, Epoch 10, Loss: 0.5158094763755798, Accuracy: 82.68107604980469, Val Loss: 1.0021109580993652, Val Accuracy: 67.19999694824219\n"
     ]
    }
   ],
   "source": [
    "class CustomConvNet(tf.keras.Model):\n",
    "    def __init__(self):\n",
    "        super(CustomConvNet, self).__init__()\n",
    "        ############################################################################\n",
    "        # TODO: Construct a model that performs well on CIFAR-10                   #\n",
    "        ############################################################################\n",
    "        # *****START OF YOUR CODE (DO NOT DELETE/MODIFY THIS LINE)*****\n",
    "\n",
    "        channels, num_classes = [64, 32], 10\n",
    "        \n",
    "        initializer = tf.initializers.VarianceScaling(scale=2.0)\n",
    "\n",
    "        # Определение сверточных слоев\n",
    "        self.conv1 = tf.keras.layers.Conv2D(channels[0], (5, 5), (1, 1), padding='same', kernel_initializer=initializer, input_shape=(32, 32, 3))\n",
    "        self.conv2 = tf.keras.layers.Conv2D(channels[1], (3, 3), (1, 1), padding='same', kernel_initializer=initializer)\n",
    "\n",
    "        # Нормализация\n",
    "        self.bn1 = tf.keras.layers.BatchNormalization()\n",
    "        self.bn2 = tf.keras.layers.BatchNormalization()\n",
    "\n",
    "        # Определение функции активации        \n",
    "        self.relu1 = tf.keras.layers.ReLU()\n",
    "        self.relu2 = tf.keras.layers.ReLU()\n",
    "        \n",
    "        self.dp1 = tf.keras.layers.Dropout(0.1)\n",
    "        self.dp2 = tf.keras.layers.Dropout(0.1)\n",
    "\n",
    "        self.pool = tf.keras.layers.MaxPooling2D(pool_size=(2, 2))\n",
    "\n",
    "        # Слой для развертывания\n",
    "        self.fl = tf.keras.layers.Flatten()       \n",
    "        self.fc = tf.keras.layers.Dense(num_classes, activation='softmax', kernel_initializer=initializer)             \n",
    "\n",
    "        # *****END OF YOUR CODE (DO NOT DELETE/MODIFY THIS LINE)*****\n",
    "        ############################################################################\n",
    "        #                            END OF YOUR CODE                              #\n",
    "        ############################################################################\n",
    "    \n",
    "    def call(self, input_tensor, training=False):\n",
    "        ############################################################################\n",
    "        # TODO: Construct a model that performs well on CIFAR-10                   #\n",
    "        ############################################################################\n",
    "        # *****START OF YOUR CODE (DO NOT DELETE/MODIFY THIS LINE)*****\n",
    "\n",
    "        x = self.conv1(input_tensor)        \n",
    "        x = self.bn1(x)\n",
    "        x = self.relu1(x)\n",
    "        x = self.dp1(x, training=training)\n",
    "        x = self.pool(x)\n",
    "\n",
    "        x = self.conv2(x)\n",
    "        x = self.bn2(x)\n",
    "        x = self.relu2(x)\n",
    "        x = self.dp2(x, training=training)\n",
    "\n",
    "        x = self.fl(x)\n",
    "        x = self.fc(x)\n",
    "\n",
    "        # *****END OF YOUR CODE (DO NOT DELETE/MODIFY THIS LINE)*****\n",
    "        ############################################################################\n",
    "        #                            END OF YOUR CODE                              #\n",
    "        ############################################################################\n",
    "        return x\n",
    "\n",
    "\n",
    "print_every = 700\n",
    "num_epochs = 10\n",
    "\n",
    "model = CustomConvNet()\n",
    "\n",
    "def model_init_fn():\n",
    "    return CustomConvNet()\n",
    "\n",
    "def optimizer_init_fn():\n",
    "    learning_rate = 1e-3\n",
    "    return tf.keras.optimizers.Adam(learning_rate) \n",
    "\n",
    "train_part34(model_init_fn, optimizer_init_fn, num_epochs=num_epochs, is_training=True)"
   ]
  },
  {
   "cell_type": "markdown",
   "metadata": {},
   "source": [
    "Опишите все эксперименты, результаты. Сделайте выводы."
   ]
  },
  {
   "cell_type": "markdown",
   "metadata": {},
   "source": [
    "1. Среди оптимизаторов SGD и Adam, лучше себя показал `Adam`, будучи протестированы на одинаковых настройках.\n",
    "2. Были исследованы несколько архитектур сетей, состоящих из:\n",
    "   - a. сверточных слоев, нормализации, функций активации, слоев *dropout*, слоя для развертывания и полносвязного слоя;\n",
    "   - b. сверточных слоев, максимального пулинга для первых двух слоев, слоя для развертывания и полносвязных слоев.\n",
    "3. В дополнение к пункту выше стоит отметить, что добавление батч нормализации, дропаутов и дополнительного слоя значительно улучшило точность почти на $11$%. Дропауты оказали наибольшее влияние на результат, около $6$%.\n",
    "4. Функция активации *sigmoid* показала себя хуже всех, гораздо лучшие результаты получены при использовании функции *ReLU*.\n",
    "5. Для проведения различных эксперементов необходимо большое количество времени.\n",
    "6. По итогу, при уменьшении аргумента дропаута с 0.2 до 0.1 на определенных параметрах была достигнута точность $83$% на тестовой выборке и $71$% на валидационной."
   ]
  },
  {
   "cell_type": "code",
   "execution_count": null,
   "metadata": {},
   "outputs": [],
   "source": []
  }
 ],
 "metadata": {
  "kernelspec": {
   "display_name": "Python 3 (ipykernel)",
   "language": "python",
   "name": "python3"
  },
  "language_info": {
   "codemirror_mode": {
    "name": "ipython",
    "version": 3
   },
   "file_extension": ".py",
   "mimetype": "text/x-python",
   "name": "python",
   "nbconvert_exporter": "python",
   "pygments_lexer": "ipython3",
   "version": "3.11.2"
  }
 },
 "nbformat": 4,
 "nbformat_minor": 4
}
